{
 "cells": [
  {
   "cell_type": "code",
   "execution_count": 67,
   "metadata": {},
   "outputs": [],
   "source": [
    "import pandas as pd\n",
    "import json\n",
    "\n",
    "# Load JSON data\n",
    "with open('./DataEngineeringQ2.json') as file:\n",
    "    json_data = file.read()\n",
    "\n",
    "# Parse JSON data\n",
    "data = json.loads(json_data)\n",
    "\n",
    "# Extract required columns from JSON data\n",
    "appointments = []\n",
    "for item in data:\n",
    "    patient_details = item['patientDetails']\n",
    "    gender = patient_details.get('gender', None)\n",
    "    birth_date = patient_details.get('birthDate', None)\n",
    "    appointment = {\n",
    "        'appointmentId': item['appointmentId'],\n",
    "        'phoneNumber': item['phoneNumber'],\n",
    "        'firstName': patient_details['firstName'],\n",
    "        'lastName': patient_details['lastName'],\n",
    "        'gender': gender if gender in ['M', 'F'] else None,\n",
    "        'DOB': birth_date,\n",
    "        'medicines': item['consultationData']['medicines']\n",
    "    }\n",
    "    appointments.append(appointment)\n",
    "\n",
    "# Create DataFrame from extracted data\n",
    "df = pd.DataFrame(appointments)\n"
   ]
  },
  {
   "cell_type": "code",
   "execution_count": 68,
   "metadata": {},
   "outputs": [
    {
     "data": {
      "text/html": [
       "<div>\n",
       "<style scoped>\n",
       "    .dataframe tbody tr th:only-of-type {\n",
       "        vertical-align: middle;\n",
       "    }\n",
       "\n",
       "    .dataframe tbody tr th {\n",
       "        vertical-align: top;\n",
       "    }\n",
       "\n",
       "    .dataframe thead th {\n",
       "        text-align: right;\n",
       "    }\n",
       "</style>\n",
       "<table border=\"1\" class=\"dataframe\">\n",
       "  <thead>\n",
       "    <tr style=\"text-align: right;\">\n",
       "      <th></th>\n",
       "      <th>appointmentId</th>\n",
       "      <th>phoneNumber</th>\n",
       "      <th>firstName</th>\n",
       "      <th>lastName</th>\n",
       "      <th>gender</th>\n",
       "      <th>DOB</th>\n",
       "      <th>medicines</th>\n",
       "    </tr>\n",
       "  </thead>\n",
       "  <tbody>\n",
       "    <tr>\n",
       "      <th>0</th>\n",
       "      <td>40d2-9c9f</td>\n",
       "      <td>96686896670</td>\n",
       "      <td>Css</td>\n",
       "      <td></td>\n",
       "      <td>None</td>\n",
       "      <td>None</td>\n",
       "      <td>[{'medicineId': '619404', 'medicineName': 'A',...</td>\n",
       "    </tr>\n",
       "    <tr>\n",
       "      <th>1</th>\n",
       "      <td>40dbtc9f</td>\n",
       "      <td>9496368916</td>\n",
       "      <td>Lokesh</td>\n",
       "      <td></td>\n",
       "      <td>M</td>\n",
       "      <td>1996-05-16T18:30:00.000Z</td>\n",
       "      <td>[{'medicineId': '619404', 'medicineName': 'A',...</td>\n",
       "    </tr>\n",
       "    <tr>\n",
       "      <th>2</th>\n",
       "      <td>g3Wt5c9f</td>\n",
       "      <td>7787204833</td>\n",
       "      <td>Shila</td>\n",
       "      <td>Das</td>\n",
       "      <td>None</td>\n",
       "      <td>None</td>\n",
       "      <td>[{'medicineId': '619404', 'medicineName': 'B',...</td>\n",
       "    </tr>\n",
       "    <tr>\n",
       "      <th>3</th>\n",
       "      <td>fb6-a535</td>\n",
       "      <td>9376756879</td>\n",
       "      <td>Bhavika</td>\n",
       "      <td>Ben Panchal</td>\n",
       "      <td>F</td>\n",
       "      <td>1988-04-24T14:30:00.000Z</td>\n",
       "      <td>[{'medicineId': '619704', 'medicineName': 'B',...</td>\n",
       "    </tr>\n",
       "    <tr>\n",
       "      <th>4</th>\n",
       "      <td>67h7KL9</td>\n",
       "      <td>5267384241</td>\n",
       "      <td>Raghu Viju</td>\n",
       "      <td></td>\n",
       "      <td>None</td>\n",
       "      <td>None</td>\n",
       "      <td>[{'medicineId': '619384', 'medicineName': 'D',...</td>\n",
       "    </tr>\n",
       "  </tbody>\n",
       "</table>\n",
       "</div>"
      ],
      "text/plain": [
       "  appointmentId  phoneNumber   firstName     lastName gender  \\\n",
       "0     40d2-9c9f  96686896670         Css                None   \n",
       "1      40dbtc9f   9496368916      Lokesh                   M   \n",
       "2      g3Wt5c9f   7787204833       Shila          Das   None   \n",
       "3      fb6-a535   9376756879     Bhavika  Ben Panchal      F   \n",
       "4       67h7KL9   5267384241  Raghu Viju                None   \n",
       "\n",
       "                        DOB                                          medicines  \n",
       "0                      None  [{'medicineId': '619404', 'medicineName': 'A',...  \n",
       "1  1996-05-16T18:30:00.000Z  [{'medicineId': '619404', 'medicineName': 'A',...  \n",
       "2                      None  [{'medicineId': '619404', 'medicineName': 'B',...  \n",
       "3  1988-04-24T14:30:00.000Z  [{'medicineId': '619704', 'medicineName': 'B',...  \n",
       "4                      None  [{'medicineId': '619384', 'medicineName': 'D',...  "
      ]
     },
     "execution_count": 68,
     "metadata": {},
     "output_type": "execute_result"
    }
   ],
   "source": [
    "df.head()"
   ]
  },
  {
   "cell_type": "code",
   "execution_count": 69,
   "metadata": {},
   "outputs": [
    {
     "data": {
      "text/plain": [
       "Index(['appointmentId', 'phoneNumber', 'firstName', 'lastName', 'gender',\n",
       "       'DOB', 'medicines'],\n",
       "      dtype='object')"
      ]
     },
     "execution_count": 69,
     "metadata": {},
     "output_type": "execute_result"
    }
   ],
   "source": [
    "df.columns"
   ]
  },
  {
   "cell_type": "code",
   "execution_count": 70,
   "metadata": {},
   "outputs": [],
   "source": [
    "df[\"fullName\"] = df[\"firstName\"] + \" \" + df[\"lastName\"]"
   ]
  },
  {
   "cell_type": "code",
   "execution_count": 71,
   "metadata": {},
   "outputs": [],
   "source": [
    "def is_valid_mobile(number):\n",
    "    if number is None:\n",
    "        return False\n",
    "    number = str(number)\n",
    "    if number.startswith(\"+91\"):\n",
    "        number = number[3:]\n",
    "    elif number.startswith(\"91\"):\n",
    "        number = number[2:]\n",
    "    return number.isdigit() and 6000000000 <= int(number) <= 9999999999\n",
    "\n",
    "\n",
    "df[\"isValidMobile\"] = df[\"phoneNumber\"].apply(is_valid_mobile)"
   ]
  },
  {
   "cell_type": "code",
   "execution_count": 72,
   "metadata": {},
   "outputs": [],
   "source": [
    "import hashlib\n",
    "#hasing the column \n",
    "def hash_phone_number(number):\n",
    "    if number is None or not is_valid_mobile(number):\n",
    "        return None\n",
    "    number = str(number)\n",
    "    if number.startswith(\"+91\"):\n",
    "        number = number[3:]\n",
    "    elif number.startswith(\"91\"):\n",
    "        number = number[2:]\n",
    "    return hashlib.sha256(number.encode()).hexdigest()\n",
    "\n",
    "df[\"phoneNumberHash\"] = df[\"phoneNumber\"].apply(hash_phone_number)"
   ]
  },
  {
   "cell_type": "code",
   "execution_count": 73,
   "metadata": {},
   "outputs": [],
   "source": [
    "def calculate_age(birth_date):\n",
    "    if birth_date is None:\n",
    "        return None\n",
    "    birth_date = pd.to_datetime(birth_date)\n",
    "    today = pd.Timestamp.now()\n",
    "    age = today.year - birth_date.year\n",
    "    if (today.month, today.day) < (birth_date.month, birth_date.day):\n",
    "        age -= 1\n",
    "    return age\n",
    "\n",
    "df[\"Age\"] = df[\"DOB\"].apply(calculate_age)"
   ]
  },
  {
   "cell_type": "code",
   "execution_count": 74,
   "metadata": {},
   "outputs": [
    {
     "data": {
      "text/plain": [
       "[{'medicineId': '619404',\n",
       "  'medicineName': 'A',\n",
       "  'medicineNameStrengthType': '',\n",
       "  'frequency': '1-0-1',\n",
       "  'duration': '90',\n",
       "  'durationIn': 'DAYS',\n",
       "  'instruction': 'AFTER MEAL',\n",
       "  'isActive': True},\n",
       " {'medicineId': '619804',\n",
       "  'medicineName': 'B',\n",
       "  'medicineNameStrengthType': '',\n",
       "  'frequency': '1-0-1',\n",
       "  'duration': '90',\n",
       "  'durationIn': 'DAYS',\n",
       "  'instruction': 'AFTER MEAL',\n",
       "  'isActive': False}]"
      ]
     },
     "execution_count": 74,
     "metadata": {},
     "output_type": "execute_result"
    }
   ],
   "source": [
    "df['medicines'][0] # checking the medicines column details"
   ]
  },
  {
   "cell_type": "code",
   "execution_count": 75,
   "metadata": {},
   "outputs": [],
   "source": [
    "# Aggregating columns by appointmentId\n",
    "df[\"noOfMedicines\"] = df[\"medicines\"].apply(lambda x: len(x))\n",
    "df[\"noOfActiveMedicines\"] = df[\"medicines\"].apply(lambda x: sum(1 for med in x if med[\"isActive\"]))\n",
    "df[\"noOfInActiveMedicines\"] = df[\"medicines\"].apply(lambda x: sum(1 for med in x if not med[\"isActive\"]))\n",
    "df[\"MedicineNames\"] = df[\"medicines\"].apply(lambda x: \", \".join(med[\"medicineName\"] for med in x if med[\"isActive\"]))\n",
    "\n",
    "# Remove the 'medicines' column if not needed\n",
    "# df = df.drop(\"medicines\", axis=1)\n"
   ]
  },
  {
   "cell_type": "code",
   "execution_count": 76,
   "metadata": {},
   "outputs": [],
   "source": [
    "df_csv=df[['appointmentId','fullName','phoneNumber','isValidMobile','phoneNumberHash','gender','DOB','Age','noOfMedicines','noOfActiveMedicines','noOfInActiveMedicines','MedicineNames']]"
   ]
  },
  {
   "cell_type": "code",
   "execution_count": 77,
   "metadata": {},
   "outputs": [],
   "source": [
    "df_csv.to_csv(\"output.csv\", sep=\"~\", index=False)\n",
    "#saving in csv with \"~\" operator"
   ]
  },
  {
   "cell_type": "code",
   "execution_count": 78,
   "metadata": {},
   "outputs": [],
   "source": [
    "df_json = df_csv.astype(object)\n",
    "df_json[\"phoneNumber\"] = df_json[\"phoneNumber\"].astype(str) "
   ]
  },
  {
   "cell_type": "code",
   "execution_count": 79,
   "metadata": {},
   "outputs": [],
   "source": [
    "aggregated_data = {\n",
    "    \"Age\": df_json[\"Age\"].mean(),\n",
    "    \"gender\": df_json[\"gender\"].value_counts().to_dict(),\n",
    "    \"validPhoneNumbers\": df_json[\"isValidMobile\"].sum(),\n",
    "    \"appointments\": len(df_json),\n",
    "    \"medicines\": df_json[\"noOfMedicines\"].sum(),\n",
    "    \"activeMedicines\": df_json[\"noOfActiveMedicines\"].sum()\n",
    "}"
   ]
  },
  {
   "cell_type": "code",
   "execution_count": 80,
   "metadata": {},
   "outputs": [],
   "source": [
    "with open(\"Aggregated_Data.json\", \"w\") as file:\n",
    "    json.dump(aggregated_data, file, indent=4)\n",
    "#saving the json file"
   ]
  },
  {
   "cell_type": "code",
   "execution_count": 81,
   "metadata": {},
   "outputs": [
    {
     "data": {
      "image/png": "[encoded data removed]",
      "text/plain": [
       "<Figure size 432x432 with 1 Axes>"
      ]
     },
     "metadata": {},
     "output_type": "display_data"
    }
   ],
   "source": [
    "import matplotlib.pyplot as plt\n",
    "gender_counts = df['gender'].value_counts(dropna=False)\n",
    "\n",
    "# Plot the pie chart\n",
    "plt.figure(figsize=(6, 6))\n",
    "gender_counts.plot(kind='pie', autopct='%1.1f%%', colors=['blue', 'red', 'green'])\n",
    "plt.title('Gender Distribution')\n",
    "plt.legend(labels=gender_counts.index, loc='best')\n",
    "plt.axis('equal')\n",
    "plt.show()"
   ]
  }
 ],
 "metadata": {
  "kernelspec": {
   "display_name": "Python 3",
   "language": "python",
   "name": "python3"
  },
  "language_info": {
   "codemirror_mode": {
    "name": "ipython",
    "version": 3
   },
   "file_extension": ".py",
   "mimetype": "text/x-python",
   "name": "python",
   "nbconvert_exporter": "python",
   "pygments_lexer": "ipython3",
   "version": "3.10.9"
  },
  "orig_nbformat": 4
 },
 "nbformat": 4,
 "nbformat_minor": 2
}
